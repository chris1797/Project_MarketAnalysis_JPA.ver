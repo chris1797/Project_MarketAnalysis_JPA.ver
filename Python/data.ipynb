{
 "cells": [
  {
   "cell_type": "code",
   "execution_count": 1,
   "id": "cabbe067",
   "metadata": {
    "scrolled": true
   },
   "outputs": [],
   "source": [
    "# 최초 1번 실행블록\n",
    "\n",
    "import cx_Oracle\n",
    "import matplotlib as mpl # 그래프 옵션\n",
    "import matplotlib.pyplot as plt # 그래프 출력\n",
    "import pandas as pd\n",
    "\n",
    "cx_Oracle.init_oracle_client(lib_dir=\"/Users/ijaehun/Downloads/instantclient_19_8\")\n",
    "connection = cx_Oracle.connect(memberDTO=\"admin\", password=\"Chldudcjf12!\", dsn=\"db20220709105045_low\")\n",
    "cursor = connection.cursor()"
   ]
  },
  {
   "cell_type": "markdown",
   "id": "ce220d20",
   "metadata": {},
   "source": [
    "### 1. cursor를 이용하여 DB접속  \n",
    "### 2. 쿼리문을 이용하여 데이터 추출 후 메소드로 구현\n",
    "---"
   ]
  },
  {
   "cell_type": "markdown",
   "id": "218ab350",
   "metadata": {},
   "source": [
    "### - 메소드 파라미터 : 년도, 분기, 업종, 지역이름  \n",
    "\n",
    "## 매출 합계\n",
    "1. 요일별 - salesByWeek()\n",
    "2. 평일&주말 - salesByWeekAndWeekend()\n",
    "3. 시간대별 - salesByTime()\n",
    "4. 성별 - salesByGender()\n",
    "5. 나이별 - salesByAge()\n",
    "\n",
    "## 매출 건수\n",
    "1. 요일별 - countByWeek()\n",
    "2. 평일&주말 - countByWeekAndWeekend()\n",
    "3. 시간대별 - countByTime()\n",
    "4. 성별 - countByGender()\n",
    "5. 나이별 - countByAge()"
   ]
  },
  {
   "cell_type": "markdown",
   "id": "5868f118",
   "metadata": {},
   "source": [
    "# -------------------------------- 매출 합계 --------------------------------"
   ]
  },
  {
   "cell_type": "markdown",
   "id": "21dd70b4",
   "metadata": {},
   "source": [
    "## 요일별 매출 합계"
   ]
  },
  {
   "cell_type": "code",
   "execution_count": 4,
   "id": "bfff5eb4",
   "metadata": {
    "scrolled": true
   },
   "outputs": [
    {
     "data": {
      "text/html": [
       "<div>\n",
       "<style scoped>\n",
       "    .dataframe tbody tr th:only-of-type {\n",
       "        vertical-align: middle;\n",
       "    }\n",
       "\n",
       "    .dataframe tbody tr th {\n",
       "        vertical-align: top;\n",
       "    }\n",
       "\n",
       "    .dataframe thead th {\n",
       "        text-align: right;\n",
       "    }\n",
       "</style>\n",
       "<table border=\"1\" class=\"dataframe\">\n",
       "  <thead>\n",
       "    <tr style=\"text-align: right;\">\n",
       "      <th></th>\n",
       "      <th>SUM(MON_SELNG_AMT)</th>\n",
       "      <th>SUM(TUES_SELNG_AMT)</th>\n",
       "      <th>SUM(WED_SELNG_AMT)</th>\n",
       "      <th>SUM(THUR_SELNG_AMT)</th>\n",
       "      <th>SUM(FRI_SELNG_AMT)</th>\n",
       "      <th>SUM(SAT_SELNG_AMT)</th>\n",
       "      <th>SUM(SUN_SELNG_AMT)</th>\n",
       "    </tr>\n",
       "  </thead>\n",
       "  <tbody>\n",
       "    <tr>\n",
       "      <th>0</th>\n",
       "      <td>277338357950</td>\n",
       "      <td>277255661985</td>\n",
       "      <td>273277009273</td>\n",
       "      <td>272697215708</td>\n",
       "      <td>309325572561</td>\n",
       "      <td>347703497528</td>\n",
       "      <td>264572150140</td>\n",
       "    </tr>\n",
       "  </tbody>\n",
       "</table>\n",
       "</div>"
      ],
      "text/plain": [
       "   SUM(MON_SELNG_AMT)  SUM(TUES_SELNG_AMT)  SUM(WED_SELNG_AMT)  \\\n",
       "0        277338357950         277255661985        273277009273   \n",
       "\n",
       "   SUM(THUR_SELNG_AMT)  SUM(FRI_SELNG_AMT)  SUM(SAT_SELNG_AMT)  \\\n",
       "0         272697215708        309325572561        347703497528   \n",
       "\n",
       "   SUM(SUN_SELNG_AMT)  \n",
       "0        264572150140  "
      ]
     },
     "execution_count": 4,
     "metadata": {},
     "output_type": "execute_result"
    }
   ],
   "source": [
    "def salesByWeek(year, quarter, svc_nm, cd_nm):\n",
    "    cursor.execute(\"SELECT SUM(MON_SELNG_AMT), \" +\n",
    "                       \"SUM(TUES_SELNG_AMT), \" +\n",
    "                       \"SUM(WED_SELNG_AMT), \" +\n",
    "                       \"SUM(THUR_SELNG_AMT), \" +\n",
    "                       \"SUM(FRI_SELNG_AMT), \" +\n",
    "                       \"SUM(SAT_SELNG_AMT), \" + \n",
    "                       \"SUM(SUN_SELNG_AMT) \" +\n",
    "                   \"FROM SALES \" +\n",
    "                   \"WHERE stdr_yy_cd = \" + str(year) + \" AND \" +\n",
    "                        \"STDR_QU_CD = \" + str(quarter) + \" AND \" +\n",
    "                        \"SVC_INDUTY_CD_NM = \" + \"'\" + svc_nm + \"'\" + \" AND \" +\n",
    "                        \"TRDAR_CD_NM = \" + \"'\" + cd_nm + \"'\" + \" OR \" +\n",
    "                        \"TRDAR_TW_NM = \" + \"'\" + cd_nm + \"'\" + \" OR \" +\n",
    "                        \"TRDAR_VG_NM = \" + \"'\" + cd_nm + \"'\"\n",
    "                  )\n",
    "    rows = cursor.fetchall()\n",
    "    colname =cursor.description\n",
    "    col=[]\n",
    "\n",
    "    for i in colname:\n",
    "        col.append(i[0])\n",
    "    salesByWeek = pd.DataFrame(rows, columns=col)\n",
    "    \n",
    "    return salesByWeek\n",
    "\n",
    "salesByWeek(2018, 1, '한식음식점', '신림동')"
   ]
  },
  {
   "cell_type": "markdown",
   "id": "fbe084bc",
   "metadata": {},
   "source": [
    "---  \n",
    "## 평일&주말 매출 합계"
   ]
  },
  {
   "cell_type": "code",
   "execution_count": 6,
   "id": "ad718e78",
   "metadata": {},
   "outputs": [
    {
     "data": {
      "text/html": [
       "<div>\n",
       "<style scoped>\n",
       "    .dataframe tbody tr th:only-of-type {\n",
       "        vertical-align: middle;\n",
       "    }\n",
       "\n",
       "    .dataframe tbody tr th {\n",
       "        vertical-align: top;\n",
       "    }\n",
       "\n",
       "    .dataframe thead th {\n",
       "        text-align: right;\n",
       "    }\n",
       "</style>\n",
       "<table border=\"1\" class=\"dataframe\">\n",
       "  <thead>\n",
       "    <tr style=\"text-align: right;\">\n",
       "      <th></th>\n",
       "      <th>SUM(MDWK_SELNG_AMT)</th>\n",
       "      <th>SUM(WKEND_SELNG_AMT)</th>\n",
       "    </tr>\n",
       "  </thead>\n",
       "  <tbody>\n",
       "    <tr>\n",
       "      <th>0</th>\n",
       "      <td>8709362992641</td>\n",
       "      <td>3473715805834</td>\n",
       "    </tr>\n",
       "  </tbody>\n",
       "</table>\n",
       "</div>"
      ],
      "text/plain": [
       "   SUM(MDWK_SELNG_AMT)  SUM(WKEND_SELNG_AMT)\n",
       "0        8709362992641         3473715805834"
      ]
     },
     "execution_count": 6,
     "metadata": {},
     "output_type": "execute_result"
    }
   ],
   "source": [
    "def salesByWeekAndWeekend(year, quarter, svc_nm, cd_nm):\n",
    "    cursor.execute(\"SELECT SUM(MDWK_SELNG_AMT), \" +\n",
    "                          \"SUM(WKEND_SELNG_AMT) \" +\n",
    "                   \"FROM SALES \" +\n",
    "                   \"WHERE stdr_yy_cd = \" + str(year) + \" AND \" +\n",
    "                        \"STDR_QU_CD = \" + str(quarter) + \" AND \" +\n",
    "                        \"SVC_INDUTY_CD_NM = \" + \"'\" + svc_nm + \"'\" + \" AND \" +\n",
    "                        \"TRDAR_CD_NM = \" + \"'\" + cd_nm + \"'\" + \" OR \" +\n",
    "                        \"TRDAR_TW_NM = \" + \"'\" + cd_nm + \"'\" + \" OR \" +\n",
    "                        \"TRDAR_VG_NM = \" + \"'\" + cd_nm + \"'\"\n",
    "                  )\n",
    "    rows = cursor.fetchall()\n",
    "    colname =cursor.description\n",
    "    col=[]\n",
    "\n",
    "    for i in colname:\n",
    "        col.append(i[0])\n",
    "    salesByWeekAndWeekend = pd.DataFrame(rows, columns=col)\n",
    "    \n",
    "    return salesByWeekAndWeekend\n",
    "\n",
    "salesByWeekAndWeekend(2018, 1, '한식음식점', '관악구')"
   ]
  },
  {
   "cell_type": "markdown",
   "id": "6a20746d",
   "metadata": {},
   "source": [
    "---  \n",
    "## 시간대별 매출 합계"
   ]
  },
  {
   "cell_type": "code",
   "execution_count": 8,
   "id": "b7fdaa66",
   "metadata": {},
   "outputs": [
    {
     "data": {
      "text/html": [
       "<div>\n",
       "<style scoped>\n",
       "    .dataframe tbody tr th:only-of-type {\n",
       "        vertical-align: middle;\n",
       "    }\n",
       "\n",
       "    .dataframe tbody tr th {\n",
       "        vertical-align: top;\n",
       "    }\n",
       "\n",
       "    .dataframe thead th {\n",
       "        text-align: right;\n",
       "    }\n",
       "</style>\n",
       "<table border=\"1\" class=\"dataframe\">\n",
       "  <thead>\n",
       "    <tr style=\"text-align: right;\">\n",
       "      <th></th>\n",
       "      <th>SUM(TMZON_00_06_SELNG_AMT)</th>\n",
       "      <th>SUM(TMZON_06_11_SELNG_AMT)</th>\n",
       "      <th>SUM(TMZON_11_14_SELNG_AMT)</th>\n",
       "      <th>SUM(TMZON_14_17_SELNG_AMT)</th>\n",
       "      <th>SUM(TMZON_17_21_SELNG_AMT)</th>\n",
       "      <th>SUM(TMZON_21_24_SELNG_AMT)</th>\n",
       "    </tr>\n",
       "  </thead>\n",
       "  <tbody>\n",
       "    <tr>\n",
       "      <th>0</th>\n",
       "      <td>163206262933</td>\n",
       "      <td>148379219688</td>\n",
       "      <td>321047385751</td>\n",
       "      <td>393141811944</td>\n",
       "      <td>676509788310</td>\n",
       "      <td>319884996519</td>\n",
       "    </tr>\n",
       "  </tbody>\n",
       "</table>\n",
       "</div>"
      ],
      "text/plain": [
       "   SUM(TMZON_00_06_SELNG_AMT)  SUM(TMZON_06_11_SELNG_AMT)  \\\n",
       "0                163206262933                148379219688   \n",
       "\n",
       "   SUM(TMZON_11_14_SELNG_AMT)  SUM(TMZON_14_17_SELNG_AMT)  \\\n",
       "0                321047385751                393141811944   \n",
       "\n",
       "   SUM(TMZON_17_21_SELNG_AMT)  SUM(TMZON_21_24_SELNG_AMT)  \n",
       "0                676509788310                319884996519  "
      ]
     },
     "execution_count": 8,
     "metadata": {},
     "output_type": "execute_result"
    }
   ],
   "source": [
    "def salesByTime(year, quarter, svc_nm, cd_nm):\n",
    "    cursor.execute(\"SELECT SUM(TMZON_00_06_SELNG_AMT), \" +\n",
    "                          \"SUM(TMZON_06_11_SELNG_AMT), \" +\n",
    "                          \"SUM(TMZON_11_14_SELNG_AMT), \" +\n",
    "                          \"SUM(TMZON_14_17_SELNG_AMT), \" +\n",
    "                          \"SUM(TMZON_17_21_SELNG_AMT), \" +\n",
    "                          \"SUM(TMZON_21_24_SELNG_AMT) \" +\n",
    "                   \"FROM SALES \" +\n",
    "                   \"WHERE stdr_yy_cd = \" + str(year) + \" AND \" +\n",
    "                        \"STDR_QU_CD = \" + str(quarter) + \" AND \" +\n",
    "                        \"SVC_INDUTY_CD_NM = \" + \"'\" + svc_nm + \"'\" + \" AND \" +\n",
    "                        \"TRDAR_CD_NM = \" + \"'\" + cd_nm + \"'\" + \" OR \" +\n",
    "                        \"TRDAR_TW_NM = \" + \"'\" + cd_nm + \"'\" + \" OR \" +\n",
    "                        \"TRDAR_VG_NM = \" + \"'\" + cd_nm + \"'\"\n",
    "                  )\n",
    "    rows = cursor.fetchall()\n",
    "    colname =cursor.description\n",
    "    col=[]\n",
    "\n",
    "    for i in colname:\n",
    "        col.append(i[0])\n",
    "    salesByTime = pd.DataFrame(rows, columns=col)\n",
    "    \n",
    "    return salesByTime\n",
    "\n",
    "salesByTime(2018, 1, '한식음식점', '신림동')"
   ]
  },
  {
   "cell_type": "markdown",
   "id": "5aab819b",
   "metadata": {},
   "source": [
    "---  \n",
    "## 성별 매출 합계"
   ]
  },
  {
   "cell_type": "code",
   "execution_count": 9,
   "id": "9539f2d7",
   "metadata": {},
   "outputs": [
    {
     "data": {
      "text/html": [
       "<div>\n",
       "<style scoped>\n",
       "    .dataframe tbody tr th:only-of-type {\n",
       "        vertical-align: middle;\n",
       "    }\n",
       "\n",
       "    .dataframe tbody tr th {\n",
       "        vertical-align: top;\n",
       "    }\n",
       "\n",
       "    .dataframe thead th {\n",
       "        text-align: right;\n",
       "    }\n",
       "</style>\n",
       "<table border=\"1\" class=\"dataframe\">\n",
       "  <thead>\n",
       "    <tr style=\"text-align: right;\">\n",
       "      <th></th>\n",
       "      <th>SUM(ML_SELNG_AMT)</th>\n",
       "      <th>SUM(FML_SELNG_AMT)</th>\n",
       "    </tr>\n",
       "  </thead>\n",
       "  <tbody>\n",
       "    <tr>\n",
       "      <th>0</th>\n",
       "      <td>450590798</td>\n",
       "      <td>309282077</td>\n",
       "    </tr>\n",
       "  </tbody>\n",
       "</table>\n",
       "</div>"
      ],
      "text/plain": [
       "   SUM(ML_SELNG_AMT)  SUM(FML_SELNG_AMT)\n",
       "0          450590798           309282077"
      ]
     },
     "execution_count": 9,
     "metadata": {},
     "output_type": "execute_result"
    }
   ],
   "source": [
    "def salesByGender(year, quarter, svc_nm, cd_nm):\n",
    "    cursor.execute(\"SELECT SUM(ML_SELNG_AMT), \" +\n",
    "                          \"SUM(FML_SELNG_AMT) \" +\n",
    "                   \"FROM SALES \" +\n",
    "                   \"WHERE stdr_yy_cd = \" + str(year) + \" AND \" +\n",
    "                        \"STDR_QU_CD = \" + str(quarter) + \" AND \" +\n",
    "                        \"SVC_INDUTY_CD_NM = \" + \"'\" + svc_nm + \"'\" + \" AND \" +\n",
    "                        \"TRDAR_CD_NM = \" + \"'\" + cd_nm + \"'\" + \" OR \" +\n",
    "                        \"TRDAR_TW_NM = \" + \"'\" + cd_nm + \"'\" + \" OR \" +\n",
    "                        \"TRDAR_VG_NM = \" + \"'\" + cd_nm + \"'\"\n",
    "                  )\n",
    "    rows = cursor.fetchall()\n",
    "    colname =cursor.description\n",
    "    col=[]\n",
    "\n",
    "    for i in colname:\n",
    "        col.append(i[0])\n",
    "    salesByGender = pd.DataFrame(rows, columns=col)\n",
    "    \n",
    "    return salesByGender\n",
    "\n",
    "salesByGender(2018, 1, '한식음식점', '서울대병원')"
   ]
  },
  {
   "cell_type": "markdown",
   "id": "9dcb55b2",
   "metadata": {},
   "source": [
    "---  \n",
    "## 나이별 매출 합계"
   ]
  },
  {
   "cell_type": "code",
   "execution_count": 10,
   "id": "696fd864",
   "metadata": {
    "scrolled": true
   },
   "outputs": [
    {
     "data": {
      "text/html": [
       "<div>\n",
       "<style scoped>\n",
       "    .dataframe tbody tr th:only-of-type {\n",
       "        vertical-align: middle;\n",
       "    }\n",
       "\n",
       "    .dataframe tbody tr th {\n",
       "        vertical-align: top;\n",
       "    }\n",
       "\n",
       "    .dataframe thead th {\n",
       "        text-align: right;\n",
       "    }\n",
       "</style>\n",
       "<table border=\"1\" class=\"dataframe\">\n",
       "  <thead>\n",
       "    <tr style=\"text-align: right;\">\n",
       "      <th></th>\n",
       "      <th>SUM(AGRDE_10_SELNG_AMT)</th>\n",
       "      <th>SUM(AGRDE_20_SELNG_AMT)</th>\n",
       "      <th>SUM(AGRDE_30_SELNG_AMT)</th>\n",
       "      <th>SUM(AGRDE_40_SELNG_AMT)</th>\n",
       "      <th>SUM(AGRDE_50_SELNG_AMT)</th>\n",
       "      <th>SUM(AGRDE_60_ABOVE_SELNG_AMT)</th>\n",
       "    </tr>\n",
       "  </thead>\n",
       "  <tbody>\n",
       "    <tr>\n",
       "      <th>0</th>\n",
       "      <td>3587780</td>\n",
       "      <td>128101155</td>\n",
       "      <td>164399974</td>\n",
       "      <td>200734387</td>\n",
       "      <td>167863246</td>\n",
       "      <td>95186341</td>\n",
       "    </tr>\n",
       "  </tbody>\n",
       "</table>\n",
       "</div>"
      ],
      "text/plain": [
       "   SUM(AGRDE_10_SELNG_AMT)  SUM(AGRDE_20_SELNG_AMT)  SUM(AGRDE_30_SELNG_AMT)  \\\n",
       "0                  3587780                128101155                164399974   \n",
       "\n",
       "   SUM(AGRDE_40_SELNG_AMT)  SUM(AGRDE_50_SELNG_AMT)  \\\n",
       "0                200734387                167863246   \n",
       "\n",
       "   SUM(AGRDE_60_ABOVE_SELNG_AMT)  \n",
       "0                       95186341  "
      ]
     },
     "execution_count": 10,
     "metadata": {},
     "output_type": "execute_result"
    }
   ],
   "source": [
    "def salesByAge(year, quarter, svc_nm, cd_nm):\n",
    "    cursor.execute(\"SELECT SUM(AGRDE_10_SELNG_AMT), \" +\n",
    "                          \"SUM(AGRDE_20_SELNG_AMT), \" +\n",
    "                          \"SUM(AGRDE_30_SELNG_AMT), \" +\n",
    "                          \"SUM(AGRDE_40_SELNG_AMT), \" +\n",
    "                          \"SUM(AGRDE_50_SELNG_AMT), \" +\n",
    "                          \"SUM(AGRDE_60_ABOVE_SELNG_AMT) \" +\n",
    "                   \"FROM SALES \" +\n",
    "                   \"WHERE stdr_yy_cd = \" + str(year) + \" AND \" +\n",
    "                        \"STDR_QU_CD = \" + str(quarter) + \" AND \" +\n",
    "                        \"SVC_INDUTY_CD_NM = \" + \"'\" + svc_nm + \"'\" + \" AND \" +\n",
    "                        \"TRDAR_CD_NM = \" + \"'\" + cd_nm + \"'\" + \" OR \" +\n",
    "                        \"TRDAR_TW_NM = \" + \"'\" + cd_nm + \"'\" + \" OR \" +\n",
    "                        \"TRDAR_VG_NM = \" + \"'\" + cd_nm + \"'\"\n",
    "                  )\n",
    "    rows = cursor.fetchall()\n",
    "    colname =cursor.description\n",
    "    col=[]\n",
    "\n",
    "    for i in colname:\n",
    "        col.append(i[0])\n",
    "    salesByAge = pd.DataFrame(rows, columns=col)\n",
    "    \n",
    "    return salesByAge\n",
    "\n",
    "salesByAge(2018, 1, '한식음식점', '서울대병원')"
   ]
  },
  {
   "cell_type": "markdown",
   "id": "8a6b404a",
   "metadata": {},
   "source": [
    "# -------------------------------- 매출 건수 --------------------------------"
   ]
  },
  {
   "cell_type": "markdown",
   "id": "2cd69aed",
   "metadata": {},
   "source": [
    "## 요일별 매출 건수"
   ]
  },
  {
   "cell_type": "code",
   "execution_count": 11,
   "id": "5b3936d2",
   "metadata": {
    "scrolled": true
   },
   "outputs": [
    {
     "data": {
      "text/html": [
       "<div>\n",
       "<style scoped>\n",
       "    .dataframe tbody tr th:only-of-type {\n",
       "        vertical-align: middle;\n",
       "    }\n",
       "\n",
       "    .dataframe tbody tr th {\n",
       "        vertical-align: top;\n",
       "    }\n",
       "\n",
       "    .dataframe thead th {\n",
       "        text-align: right;\n",
       "    }\n",
       "</style>\n",
       "<table border=\"1\" class=\"dataframe\">\n",
       "  <thead>\n",
       "    <tr style=\"text-align: right;\">\n",
       "      <th></th>\n",
       "      <th>SUM(MON_SELNG_CO)</th>\n",
       "      <th>SUM(TUES_SELNG_CO)</th>\n",
       "      <th>SUM(WED_SELNG_CO)</th>\n",
       "      <th>SUM(THUR_SELNG_CO)</th>\n",
       "      <th>SUM(FRI_SELNG_CO)</th>\n",
       "      <th>SUM(SAT_SELNG_CO)</th>\n",
       "      <th>SUM(SUN_SELNG_CO)</th>\n",
       "    </tr>\n",
       "  </thead>\n",
       "  <tbody>\n",
       "    <tr>\n",
       "      <th>0</th>\n",
       "      <td>9805</td>\n",
       "      <td>10747</td>\n",
       "      <td>10173</td>\n",
       "      <td>9164</td>\n",
       "      <td>9384</td>\n",
       "      <td>4295</td>\n",
       "      <td>2364</td>\n",
       "    </tr>\n",
       "  </tbody>\n",
       "</table>\n",
       "</div>"
      ],
      "text/plain": [
       "   SUM(MON_SELNG_CO)  SUM(TUES_SELNG_CO)  SUM(WED_SELNG_CO)  \\\n",
       "0               9805               10747              10173   \n",
       "\n",
       "   SUM(THUR_SELNG_CO)  SUM(FRI_SELNG_CO)  SUM(SAT_SELNG_CO)  SUM(SUN_SELNG_CO)  \n",
       "0                9164               9384               4295               2364  "
      ]
     },
     "execution_count": 11,
     "metadata": {},
     "output_type": "execute_result"
    }
   ],
   "source": [
    "def countByWeek(year, quarter, svc_nm, cd_nm):\n",
    "    cursor.execute(\"SELECT SUM(MON_SELNG_CO), \" +\n",
    "                       \"SUM(TUES_SELNG_CO), \" +\n",
    "                       \"SUM(WED_SELNG_CO), \" +\n",
    "                       \"SUM(THUR_SELNG_CO), \" +\n",
    "                       \"SUM(FRI_SELNG_CO), \" +\n",
    "                       \"SUM(SAT_SELNG_CO), \" + \n",
    "                       \"SUM(SUN_SELNG_CO) \" +\n",
    "                   \"FROM SALES \" +\n",
    "                   \"WHERE stdr_yy_cd = \" + str(year) + \" AND \" +\n",
    "                        \"STDR_QU_CD = \" + str(quarter) + \" AND \" +\n",
    "                        \"SVC_INDUTY_CD_NM = \" + \"'\" + svc_nm + \"'\" + \" AND \" +\n",
    "                        \"TRDAR_CD_NM = \" + \"'\" + cd_nm + \"'\" + \" OR \" +\n",
    "                        \"TRDAR_TW_NM = \" + \"'\" + cd_nm + \"'\" + \" OR \" +\n",
    "                        \"TRDAR_VG_NM = \" + \"'\" + cd_nm + \"'\"\n",
    "                  )\n",
    "    rows = cursor.fetchall()\n",
    "    colname =cursor.description\n",
    "    col=[]\n",
    "\n",
    "# MON_SELNG_CO\n",
    "# TUES_SELNG_CO\n",
    "# WED_SELNG_CO\n",
    "# THUR_SELNG_CO\n",
    "# FRI_SELNG_CO\n",
    "# SAT_SELNG_CO\n",
    "# SUN_SELNG_CO\n",
    "\n",
    "    for i in colname:\n",
    "        col.append(i[0])\n",
    "    countByWeek = pd.DataFrame(rows, columns=col)\n",
    "    \n",
    "    return countByWeek\n",
    "\n",
    "countByWeek(2018, 1, '한식음식점', '서울대병원')"
   ]
  },
  {
   "cell_type": "markdown",
   "id": "4769af28",
   "metadata": {},
   "source": [
    "---  \n",
    "## 평일&주말 매출 건수"
   ]
  },
  {
   "cell_type": "code",
   "execution_count": 12,
   "id": "0b422cd2",
   "metadata": {},
   "outputs": [
    {
     "data": {
      "text/html": [
       "<div>\n",
       "<style scoped>\n",
       "    .dataframe tbody tr th:only-of-type {\n",
       "        vertical-align: middle;\n",
       "    }\n",
       "\n",
       "    .dataframe tbody tr th {\n",
       "        vertical-align: top;\n",
       "    }\n",
       "\n",
       "    .dataframe thead th {\n",
       "        text-align: right;\n",
       "    }\n",
       "</style>\n",
       "<table border=\"1\" class=\"dataframe\">\n",
       "  <thead>\n",
       "    <tr style=\"text-align: right;\">\n",
       "      <th></th>\n",
       "      <th>SUM(MDWK_SELNG_CO)</th>\n",
       "      <th>SUM(WKEND_SELNG_CO)</th>\n",
       "    </tr>\n",
       "  </thead>\n",
       "  <tbody>\n",
       "    <tr>\n",
       "      <th>0</th>\n",
       "      <td>49273</td>\n",
       "      <td>6659</td>\n",
       "    </tr>\n",
       "  </tbody>\n",
       "</table>\n",
       "</div>"
      ],
      "text/plain": [
       "   SUM(MDWK_SELNG_CO)  SUM(WKEND_SELNG_CO)\n",
       "0               49273                 6659"
      ]
     },
     "execution_count": 12,
     "metadata": {},
     "output_type": "execute_result"
    }
   ],
   "source": [
    "def countByWeekAndWeekend(year, quarter, svc_nm, cd_nm):\n",
    "    cursor.execute(\"SELECT SUM(MDWK_SELNG_CO), \" +\n",
    "                          \"SUM(WKEND_SELNG_CO) \" +\n",
    "                   \"FROM SALES \" +\n",
    "                   \"WHERE stdr_yy_cd = \" + str(year) + \" AND \" +\n",
    "                        \"STDR_QU_CD = \" + str(quarter) + \" AND \" +\n",
    "                        \"SVC_INDUTY_CD_NM = \" + \"'\" + svc_nm + \"'\" + \" AND \" +\n",
    "                        \"TRDAR_CD_NM = \" + \"'\" + cd_nm + \"'\" + \" OR \" +\n",
    "                        \"TRDAR_TW_NM = \" + \"'\" + cd_nm + \"'\" + \" OR \" +\n",
    "                        \"TRDAR_VG_NM = \" + \"'\" + cd_nm + \"'\"\n",
    "                  )\n",
    "    rows = cursor.fetchall()\n",
    "    colname =cursor.description\n",
    "    col=[]\n",
    "\n",
    "    for i in colname:\n",
    "        col.append(i[0])\n",
    "    countByWeekAndWeekend = pd.DataFrame(rows, columns=col)\n",
    "    \n",
    "    return countByWeekAndWeekend\n",
    "\n",
    "countByWeekAndWeekend(2018, 1, '한식음식점', '서울대병원')"
   ]
  },
  {
   "cell_type": "markdown",
   "id": "10be3ce3",
   "metadata": {},
   "source": [
    "---  \n",
    "## 시간대별 매출 건수"
   ]
  },
  {
   "cell_type": "code",
   "execution_count": 13,
   "id": "34574328",
   "metadata": {},
   "outputs": [
    {
     "data": {
      "text/html": [
       "<div>\n",
       "<style scoped>\n",
       "    .dataframe tbody tr th:only-of-type {\n",
       "        vertical-align: middle;\n",
       "    }\n",
       "\n",
       "    .dataframe tbody tr th {\n",
       "        vertical-align: top;\n",
       "    }\n",
       "\n",
       "    .dataframe thead th {\n",
       "        text-align: right;\n",
       "    }\n",
       "</style>\n",
       "<table border=\"1\" class=\"dataframe\">\n",
       "  <thead>\n",
       "    <tr style=\"text-align: right;\">\n",
       "      <th></th>\n",
       "      <th>SUM(TMZON_00_06_SELNG_CO)</th>\n",
       "      <th>SUM(TMZON_06_11_SELNG_CO)</th>\n",
       "      <th>SUM(TMZON_11_14_SELNG_CO)</th>\n",
       "      <th>SUM(TMZON_14_17_SELNG_CO)</th>\n",
       "      <th>SUM(TMZON_17_21_SELNG_CO)</th>\n",
       "      <th>SUM(TMZON_21_24_SELNG_CO)</th>\n",
       "    </tr>\n",
       "  </thead>\n",
       "  <tbody>\n",
       "    <tr>\n",
       "      <th>0</th>\n",
       "      <td>20</td>\n",
       "      <td>2926</td>\n",
       "      <td>29209</td>\n",
       "      <td>7422</td>\n",
       "      <td>15124</td>\n",
       "      <td>1231</td>\n",
       "    </tr>\n",
       "  </tbody>\n",
       "</table>\n",
       "</div>"
      ],
      "text/plain": [
       "   SUM(TMZON_00_06_SELNG_CO)  SUM(TMZON_06_11_SELNG_CO)  \\\n",
       "0                         20                       2926   \n",
       "\n",
       "   SUM(TMZON_11_14_SELNG_CO)  SUM(TMZON_14_17_SELNG_CO)  \\\n",
       "0                      29209                       7422   \n",
       "\n",
       "   SUM(TMZON_17_21_SELNG_CO)  SUM(TMZON_21_24_SELNG_CO)  \n",
       "0                      15124                       1231  "
      ]
     },
     "execution_count": 13,
     "metadata": {},
     "output_type": "execute_result"
    }
   ],
   "source": [
    "def countByTime(year, quarter, svc_nm, cd_nm):\n",
    "    cursor.execute(\"SELECT SUM(TMZON_00_06_SELNG_CO), \" +\n",
    "                          \"SUM(TMZON_06_11_SELNG_CO), \" +\n",
    "                          \"SUM(TMZON_11_14_SELNG_CO), \" +\n",
    "                          \"SUM(TMZON_14_17_SELNG_CO), \" +\n",
    "                          \"SUM(TMZON_17_21_SELNG_CO), \" +\n",
    "                          \"SUM(TMZON_21_24_SELNG_CO) \" +\n",
    "                   \"FROM SALES \" +\n",
    "                   \"WHERE stdr_yy_cd = \" + str(year) + \" AND \" +\n",
    "                        \"STDR_QU_CD = \" + str(quarter) + \" AND \" +\n",
    "                        \"SVC_INDUTY_CD_NM = \" + \"'\" + svc_nm + \"'\" + \" AND \" +\n",
    "                        \"TRDAR_CD_NM = \" + \"'\" + cd_nm + \"'\" + \" OR \" +\n",
    "                        \"TRDAR_TW_NM = \" + \"'\" + cd_nm + \"'\" + \" OR \" +\n",
    "                        \"TRDAR_VG_NM = \" + \"'\" + cd_nm + \"'\"\n",
    "                  )\n",
    "    rows = cursor.fetchall()\n",
    "    colname =cursor.description\n",
    "    col=[]\n",
    "\n",
    "    for i in colname:\n",
    "        col.append(i[0])\n",
    "    countByTime = pd.DataFrame(rows, columns=col)\n",
    "    \n",
    "    return countByTime\n",
    "\n",
    "countByTime(2018, 1, '한식음식점', '서울대병원')"
   ]
  },
  {
   "cell_type": "markdown",
   "id": "144b88a8",
   "metadata": {},
   "source": [
    "---  \n",
    "## 성별 매출 건수"
   ]
  },
  {
   "cell_type": "code",
   "execution_count": 4,
   "id": "3baa9fcf",
   "metadata": {},
   "outputs": [
    {
     "data": {
      "text/html": [
       "<div>\n",
       "<style scoped>\n",
       "    .dataframe tbody tr th:only-of-type {\n",
       "        vertical-align: middle;\n",
       "    }\n",
       "\n",
       "    .dataframe tbody tr th {\n",
       "        vertical-align: top;\n",
       "    }\n",
       "\n",
       "    .dataframe thead th {\n",
       "        text-align: right;\n",
       "    }\n",
       "</style>\n",
       "<table border=\"1\" class=\"dataframe\">\n",
       "  <thead>\n",
       "    <tr style=\"text-align: right;\">\n",
       "      <th></th>\n",
       "      <th>SUM(ML_SELNG_CO)</th>\n",
       "      <th>SUM(FML_SELNG_CO)</th>\n",
       "    </tr>\n",
       "  </thead>\n",
       "  <tbody>\n",
       "    <tr>\n",
       "      <th>0</th>\n",
       "      <td>29820</td>\n",
       "      <td>20767</td>\n",
       "    </tr>\n",
       "  </tbody>\n",
       "</table>\n",
       "</div>"
      ],
      "text/plain": [
       "   SUM(ML_SELNG_CO)  SUM(FML_SELNG_CO)\n",
       "0             29820              20767"
      ]
     },
     "execution_count": 4,
     "metadata": {},
     "output_type": "execute_result"
    }
   ],
   "source": [
    "def countByGender(year, quarter, svc_nm, cd_nm):\n",
    "    cursor.execute(\"SELECT SUM(ML_SELNG_CO), \" +\n",
    "                          \"SUM(FML_SELNG_CO) \" +\n",
    "                   \"FROM SALES \" +\n",
    "                   \"WHERE stdr_yy_cd = \" + str(year) + \" AND \" +\n",
    "                        \"STDR_QU_CD = \" + str(quarter) + \" AND \" +\n",
    "                        \"SVC_INDUTY_CD_NM = \" + \"'\" + svc_nm + \"'\" + \" AND \" +\n",
    "                        \"TRDAR_CD_NM = \" + \"'\" + cd_nm + \"'\" + \" OR \" +\n",
    "                        \"TRDAR_TW_NM = \" + \"'\" + cd_nm + \"'\" + \" OR \" +\n",
    "                        \"TRDAR_VG_NM = \" + \"'\" + cd_nm + \"'\"\n",
    "                  )\n",
    "    rows = cursor.fetchall()\n",
    "    colname =cursor.description\n",
    "    col=[]\n",
    "\n",
    "    for i in colname:\n",
    "        col.append(i[0])\n",
    "    countByGender = pd.DataFrame(rows, columns=col)\n",
    "    \n",
    "    return countByGender\n",
    "\n",
    "countByGender(2018, 1, '한식음식점', '서울대병원')"
   ]
  },
  {
   "cell_type": "markdown",
   "id": "585ee92a",
   "metadata": {},
   "source": [
    "---  \n",
    "## 나이별 매출 건수"
   ]
  },
  {
   "cell_type": "code",
   "execution_count": 5,
   "id": "8d280595",
   "metadata": {},
   "outputs": [
    {
     "data": {
      "text/html": [
       "<div>\n",
       "<style scoped>\n",
       "    .dataframe tbody tr th:only-of-type {\n",
       "        vertical-align: middle;\n",
       "    }\n",
       "\n",
       "    .dataframe tbody tr th {\n",
       "        vertical-align: top;\n",
       "    }\n",
       "\n",
       "    .dataframe thead th {\n",
       "        text-align: right;\n",
       "    }\n",
       "</style>\n",
       "<table border=\"1\" class=\"dataframe\">\n",
       "  <thead>\n",
       "    <tr style=\"text-align: right;\">\n",
       "      <th></th>\n",
       "      <th>SUM(AGRDE_10_SELNG_CO)</th>\n",
       "      <th>SUM(AGRDE_20_SELNG_CO)</th>\n",
       "      <th>SUM(AGRDE_30_SELNG_CO)</th>\n",
       "      <th>SUM(AGRDE_40_SELNG_CO)</th>\n",
       "      <th>SUM(AGRDE_50_SELNG_CO)</th>\n",
       "      <th>SUM(AGRDE_60_ABOVE_SELNG_CO)</th>\n",
       "    </tr>\n",
       "  </thead>\n",
       "  <tbody>\n",
       "    <tr>\n",
       "      <th>0</th>\n",
       "      <td>463</td>\n",
       "      <td>12481</td>\n",
       "      <td>12214</td>\n",
       "      <td>11088</td>\n",
       "      <td>9285</td>\n",
       "      <td>5053</td>\n",
       "    </tr>\n",
       "  </tbody>\n",
       "</table>\n",
       "</div>"
      ],
      "text/plain": [
       "   SUM(AGRDE_10_SELNG_CO)  SUM(AGRDE_20_SELNG_CO)  SUM(AGRDE_30_SELNG_CO)  \\\n",
       "0                     463                   12481                   12214   \n",
       "\n",
       "   SUM(AGRDE_40_SELNG_CO)  SUM(AGRDE_50_SELNG_CO)  \\\n",
       "0                   11088                    9285   \n",
       "\n",
       "   SUM(AGRDE_60_ABOVE_SELNG_CO)  \n",
       "0                          5053  "
      ]
     },
     "execution_count": 5,
     "metadata": {},
     "output_type": "execute_result"
    }
   ],
   "source": [
    "def countByAge(year, quarter, svc_nm, cd_nm):\n",
    "    cursor.execute(\"SELECT SUM(AGRDE_10_SELNG_CO), \" +\n",
    "                          \"SUM(AGRDE_20_SELNG_CO), \" +\n",
    "                          \"SUM(AGRDE_30_SELNG_CO), \" +\n",
    "                          \"SUM(AGRDE_40_SELNG_CO), \" +\n",
    "                          \"SUM(AGRDE_50_SELNG_CO), \" +\n",
    "                          \"SUM(AGRDE_60_ABOVE_SELNG_CO) \" +\n",
    "                   \"FROM SALES \" +\n",
    "                   \"WHERE stdr_yy_cd = \" + str(year) + \" AND \" +\n",
    "                        \"STDR_QU_CD = \" + str(quarter) + \" AND \" +\n",
    "                        \"SVC_INDUTY_CD_NM = \" + \"'\" + svc_nm + \"'\" + \" AND \" +\n",
    "                        \"TRDAR_CD_NM = \" + \"'\" + cd_nm + \"'\" + \" OR \" +\n",
    "                        \"TRDAR_TW_NM = \" + \"'\" + cd_nm + \"'\" + \" OR \" +\n",
    "                        \"TRDAR_VG_NM = \" + \"'\" + cd_nm + \"'\"\n",
    "                  )\n",
    "    rows = cursor.fetchall()\n",
    "    colname =cursor.description\n",
    "    col=[]\n",
    "\n",
    "    for i in colname:\n",
    "        col.append(i[0])\n",
    "    countByAge = pd.DataFrame(rows, columns=col)\n",
    "    \n",
    "    return countByAge\n",
    "\n",
    "countByAge(2018, 1, '한식음식점', '서울대병원')"
   ]
  },
  {
   "cell_type": "code",
   "execution_count": null,
   "id": "82130a25",
   "metadata": {},
   "outputs": [],
   "source": []
  }
 ],
 "metadata": {
  "kernelspec": {
   "display_name": "Python 3 (ipykernel)",
   "language": "python",
   "name": "python3"
  },
  "language_info": {
   "codemirror_mode": {
    "name": "ipython",
    "version": 3
   },
   "file_extension": ".py",
   "mimetype": "text/x-python",
   "name": "python",
   "nbconvert_exporter": "python",
   "pygments_lexer": "ipython3",
   "version": "3.9.12"
  }
 },
 "nbformat": 4,
 "nbformat_minor": 5
}
